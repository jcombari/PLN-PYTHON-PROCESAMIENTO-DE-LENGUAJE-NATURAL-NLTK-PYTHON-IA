{
 "cells": [
  {
   "cell_type": "markdown",
   "id": "f6040e56",
   "metadata": {},
   "source": [
    "Vídeo:\n",
    "https://www.youtube.com/watch?v=NGSjwWrE-6A&list=PLaHpNulXyoOS_DMC4lzcfYYDaHJRSCw9G&index=2"
   ]
  },
  {
   "cell_type": "code",
   "execution_count": 1,
   "id": "8588815a",
   "metadata": {},
   "outputs": [
    {
     "name": "stdout",
     "output_type": "stream",
     "text": [
      "pygame 2.1.2 (SDL 2.0.18, Python 3.9.7)\n",
      "Hello from the pygame community. https://www.pygame.org/contribute.html\n"
     ]
    }
   ],
   "source": [
    "#Importar librerías\n",
    "import pygame\n",
    "import pyworld as pw #pip install --upgrade numpy #pip install --upgrade numpy\n",
    "from gtts import gTTS\n",
    "from tempfile import TemporaryFile\n",
    "from pygame import mixer"
   ]
  },
  {
   "cell_type": "code",
   "execution_count": 2,
   "id": "f47ddb5d",
   "metadata": {},
   "outputs": [],
   "source": [
    "tts = gTTS(text='Hola. ¿Cómo estás?', lang='es')\n",
    "ficheroMP3='tts.mp3'\n",
    "tts.save(ficheroMP3)"
   ]
  },
  {
   "cell_type": "code",
   "execution_count": 3,
   "id": "fc10ce65",
   "metadata": {},
   "outputs": [
    {
     "name": "stdout",
     "output_type": "stream",
     "text": [
      "Reproduciendo tts.mp3\n"
     ]
    }
   ],
   "source": [
    "mixer.init()\n",
    "mixer.music.load(ficheroMP3)\n",
    "print(\"Reproduciendo {0}\".format(ficheroMP3))\n",
    "mixer.music.play()\n",
    "while mixer.music.get_busy(): \n",
    "    pygame.time.Clock().tick(10)\n",
    "mixer.quit()"
   ]
  }
 ],
 "metadata": {
  "kernelspec": {
   "display_name": "Python 3 (ipykernel)",
   "language": "python",
   "name": "python3"
  },
  "language_info": {
   "codemirror_mode": {
    "name": "ipython",
    "version": 3
   },
   "file_extension": ".py",
   "mimetype": "text/x-python",
   "name": "python",
   "nbconvert_exporter": "python",
   "pygments_lexer": "ipython3",
   "version": "3.9.7"
  }
 },
 "nbformat": 4,
 "nbformat_minor": 5
}
